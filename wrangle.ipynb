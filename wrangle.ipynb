{
 "cells": [
  {
   "cell_type": "code",
   "execution_count": 3,
   "id": "4f8792f1",
   "metadata": {},
   "outputs": [],
   "source": [
    "import numpy as np\n",
    "import pandas as pd\n",
    "import sklearn.preprocessing\n",
    "\n",
    "import seaborn as sns\n",
    "import matplotlib.pyplot as plt\n",
    "\n",
    "import wrangle as pp\n",
    "import model as md\n",
    "\n",
    "# import splitting\n",
    "from sklearn.model_selection import train_test_split\n",
    "from sklearn.metrics import mean_squared_error\n",
    "from sklearn.metrics import explained_variance_score\n",
    "\n",
    "import warnings\n",
    "warnings.filterwarnings(\"ignore\")"
   ]
  },
  {
   "cell_type": "markdown",
   "id": "26f18609",
   "metadata": {},
   "source": [
    "# Acquire"
   ]
  },
  {
   "cell_type": "code",
   "execution_count": 4,
   "id": "6ecfefff",
   "metadata": {},
   "outputs": [
    {
     "data": {
      "text/html": [
       "<div>\n",
       "<style scoped>\n",
       "    .dataframe tbody tr th:only-of-type {\n",
       "        vertical-align: middle;\n",
       "    }\n",
       "\n",
       "    .dataframe tbody tr th {\n",
       "        vertical-align: top;\n",
       "    }\n",
       "\n",
       "    .dataframe thead th {\n",
       "        text-align: right;\n",
       "    }\n",
       "</style>\n",
       "<table border=\"1\" class=\"dataframe\">\n",
       "  <thead>\n",
       "    <tr style=\"text-align: right;\">\n",
       "      <th></th>\n",
       "      <th>Unnamed: 0</th>\n",
       "      <th>BOROUGH</th>\n",
       "      <th>NEIGHBORHOOD</th>\n",
       "      <th>BUILDING CLASS CATEGORY</th>\n",
       "      <th>TAX CLASS AT PRESENT</th>\n",
       "      <th>BLOCK</th>\n",
       "      <th>LOT</th>\n",
       "      <th>EASE-MENT</th>\n",
       "      <th>BUILDING CLASS AT PRESENT</th>\n",
       "      <th>ADDRESS</th>\n",
       "      <th>...</th>\n",
       "      <th>RESIDENTIAL UNITS</th>\n",
       "      <th>COMMERCIAL UNITS</th>\n",
       "      <th>TOTAL UNITS</th>\n",
       "      <th>LAND SQUARE FEET</th>\n",
       "      <th>GROSS SQUARE FEET</th>\n",
       "      <th>YEAR BUILT</th>\n",
       "      <th>TAX CLASS AT TIME OF SALE</th>\n",
       "      <th>BUILDING CLASS AT TIME OF SALE</th>\n",
       "      <th>SALE PRICE</th>\n",
       "      <th>SALE DATE</th>\n",
       "    </tr>\n",
       "  </thead>\n",
       "  <tbody>\n",
       "    <tr>\n",
       "      <th>0</th>\n",
       "      <td>4</td>\n",
       "      <td>1</td>\n",
       "      <td>ALPHABET CITY</td>\n",
       "      <td>07 RENTALS - WALKUP APARTMENTS</td>\n",
       "      <td>2A</td>\n",
       "      <td>392</td>\n",
       "      <td>6</td>\n",
       "      <td></td>\n",
       "      <td>C2</td>\n",
       "      <td>153 AVENUE B</td>\n",
       "      <td>...</td>\n",
       "      <td>5</td>\n",
       "      <td>0</td>\n",
       "      <td>5</td>\n",
       "      <td>1633</td>\n",
       "      <td>6440</td>\n",
       "      <td>1900</td>\n",
       "      <td>2</td>\n",
       "      <td>C2</td>\n",
       "      <td>6625000</td>\n",
       "      <td>2017-07-19 00:00:00</td>\n",
       "    </tr>\n",
       "    <tr>\n",
       "      <th>1</th>\n",
       "      <td>5</td>\n",
       "      <td>1</td>\n",
       "      <td>ALPHABET CITY</td>\n",
       "      <td>07 RENTALS - WALKUP APARTMENTS</td>\n",
       "      <td>2</td>\n",
       "      <td>399</td>\n",
       "      <td>26</td>\n",
       "      <td></td>\n",
       "      <td>C7</td>\n",
       "      <td>234 EAST 4TH   STREET</td>\n",
       "      <td>...</td>\n",
       "      <td>28</td>\n",
       "      <td>3</td>\n",
       "      <td>31</td>\n",
       "      <td>4616</td>\n",
       "      <td>18690</td>\n",
       "      <td>1900</td>\n",
       "      <td>2</td>\n",
       "      <td>C7</td>\n",
       "      <td>-</td>\n",
       "      <td>2016-12-14 00:00:00</td>\n",
       "    </tr>\n",
       "    <tr>\n",
       "      <th>2</th>\n",
       "      <td>6</td>\n",
       "      <td>1</td>\n",
       "      <td>ALPHABET CITY</td>\n",
       "      <td>07 RENTALS - WALKUP APARTMENTS</td>\n",
       "      <td>2</td>\n",
       "      <td>399</td>\n",
       "      <td>39</td>\n",
       "      <td></td>\n",
       "      <td>C7</td>\n",
       "      <td>197 EAST 3RD   STREET</td>\n",
       "      <td>...</td>\n",
       "      <td>16</td>\n",
       "      <td>1</td>\n",
       "      <td>17</td>\n",
       "      <td>2212</td>\n",
       "      <td>7803</td>\n",
       "      <td>1900</td>\n",
       "      <td>2</td>\n",
       "      <td>C7</td>\n",
       "      <td>-</td>\n",
       "      <td>2016-12-09 00:00:00</td>\n",
       "    </tr>\n",
       "    <tr>\n",
       "      <th>3</th>\n",
       "      <td>7</td>\n",
       "      <td>1</td>\n",
       "      <td>ALPHABET CITY</td>\n",
       "      <td>07 RENTALS - WALKUP APARTMENTS</td>\n",
       "      <td>2B</td>\n",
       "      <td>402</td>\n",
       "      <td>21</td>\n",
       "      <td></td>\n",
       "      <td>C4</td>\n",
       "      <td>154 EAST 7TH STREET</td>\n",
       "      <td>...</td>\n",
       "      <td>10</td>\n",
       "      <td>0</td>\n",
       "      <td>10</td>\n",
       "      <td>2272</td>\n",
       "      <td>6794</td>\n",
       "      <td>1913</td>\n",
       "      <td>2</td>\n",
       "      <td>C4</td>\n",
       "      <td>3936272</td>\n",
       "      <td>2016-09-23 00:00:00</td>\n",
       "    </tr>\n",
       "    <tr>\n",
       "      <th>4</th>\n",
       "      <td>8</td>\n",
       "      <td>1</td>\n",
       "      <td>ALPHABET CITY</td>\n",
       "      <td>07 RENTALS - WALKUP APARTMENTS</td>\n",
       "      <td>2A</td>\n",
       "      <td>404</td>\n",
       "      <td>55</td>\n",
       "      <td></td>\n",
       "      <td>C2</td>\n",
       "      <td>301 EAST 10TH   STREET</td>\n",
       "      <td>...</td>\n",
       "      <td>6</td>\n",
       "      <td>0</td>\n",
       "      <td>6</td>\n",
       "      <td>2369</td>\n",
       "      <td>4615</td>\n",
       "      <td>1900</td>\n",
       "      <td>2</td>\n",
       "      <td>C2</td>\n",
       "      <td>8000000</td>\n",
       "      <td>2016-11-17 00:00:00</td>\n",
       "    </tr>\n",
       "  </tbody>\n",
       "</table>\n",
       "<p>5 rows × 22 columns</p>\n",
       "</div>"
      ],
      "text/plain": [
       "   Unnamed: 0  BOROUGH   NEIGHBORHOOD  \\\n",
       "0           4        1  ALPHABET CITY   \n",
       "1           5        1  ALPHABET CITY   \n",
       "2           6        1  ALPHABET CITY   \n",
       "3           7        1  ALPHABET CITY   \n",
       "4           8        1  ALPHABET CITY   \n",
       "\n",
       "                       BUILDING CLASS CATEGORY TAX CLASS AT PRESENT  BLOCK  \\\n",
       "0  07 RENTALS - WALKUP APARTMENTS                                2A    392   \n",
       "1  07 RENTALS - WALKUP APARTMENTS                                 2    399   \n",
       "2  07 RENTALS - WALKUP APARTMENTS                                 2    399   \n",
       "3  07 RENTALS - WALKUP APARTMENTS                                2B    402   \n",
       "4  07 RENTALS - WALKUP APARTMENTS                                2A    404   \n",
       "\n",
       "   LOT EASE-MENT BUILDING CLASS AT PRESENT                 ADDRESS  ...  \\\n",
       "0    6                                  C2            153 AVENUE B  ...   \n",
       "1   26                                  C7   234 EAST 4TH   STREET  ...   \n",
       "2   39                                  C7   197 EAST 3RD   STREET  ...   \n",
       "3   21                                  C4     154 EAST 7TH STREET  ...   \n",
       "4   55                                  C2  301 EAST 10TH   STREET  ...   \n",
       "\n",
       "  RESIDENTIAL UNITS  COMMERCIAL UNITS  TOTAL UNITS  LAND SQUARE FEET  \\\n",
       "0                 5                 0            5              1633   \n",
       "1                28                 3           31              4616   \n",
       "2                16                 1           17              2212   \n",
       "3                10                 0           10              2272   \n",
       "4                 6                 0            6              2369   \n",
       "\n",
       "   GROSS SQUARE FEET YEAR BUILT TAX CLASS AT TIME OF SALE  \\\n",
       "0               6440       1900                         2   \n",
       "1              18690       1900                         2   \n",
       "2               7803       1900                         2   \n",
       "3               6794       1913                         2   \n",
       "4               4615       1900                         2   \n",
       "\n",
       "   BUILDING CLASS AT TIME OF SALE  SALE PRICE            SALE DATE  \n",
       "0                              C2     6625000  2017-07-19 00:00:00  \n",
       "1                              C7         -    2016-12-14 00:00:00  \n",
       "2                              C7         -    2016-12-09 00:00:00  \n",
       "3                              C4     3936272  2016-09-23 00:00:00  \n",
       "4                              C2     8000000  2016-11-17 00:00:00  \n",
       "\n",
       "[5 rows x 22 columns]"
      ]
     },
     "execution_count": 4,
     "metadata": {},
     "output_type": "execute_result"
    }
   ],
   "source": [
    "prop_df = pd.read_csv('nyc-rolling-sales.csv')\n",
    "prop_df.head()"
   ]
  },
  {
   "cell_type": "code",
   "execution_count": 5,
   "id": "a3a775dc",
   "metadata": {},
   "outputs": [
    {
     "data": {
      "text/plain": [
       "(84548, 22)"
      ]
     },
     "execution_count": 5,
     "metadata": {},
     "output_type": "execute_result"
    }
   ],
   "source": [
    "prop_df.shape"
   ]
  },
  {
   "cell_type": "code",
   "execution_count": 6,
   "id": "c0932561",
   "metadata": {},
   "outputs": [
    {
     "data": {
      "text/html": [
       "<div>\n",
       "<style scoped>\n",
       "    .dataframe tbody tr th:only-of-type {\n",
       "        vertical-align: middle;\n",
       "    }\n",
       "\n",
       "    .dataframe tbody tr th {\n",
       "        vertical-align: top;\n",
       "    }\n",
       "\n",
       "    .dataframe thead th {\n",
       "        text-align: right;\n",
       "    }\n",
       "</style>\n",
       "<table border=\"1\" class=\"dataframe\">\n",
       "  <thead>\n",
       "    <tr style=\"text-align: right;\">\n",
       "      <th></th>\n",
       "      <th>Unnamed: 0</th>\n",
       "      <th>BOROUGH</th>\n",
       "      <th>NEIGHBORHOOD</th>\n",
       "      <th>BUILDING CLASS CATEGORY</th>\n",
       "      <th>TAX CLASS AT PRESENT</th>\n",
       "      <th>BLOCK</th>\n",
       "      <th>LOT</th>\n",
       "      <th>EASE-MENT</th>\n",
       "      <th>BUILDING CLASS AT PRESENT</th>\n",
       "      <th>ADDRESS</th>\n",
       "      <th>APARTMENT NUMBER</th>\n",
       "      <th>ZIP CODE</th>\n",
       "      <th>RESIDENTIAL UNITS</th>\n",
       "      <th>COMMERCIAL UNITS</th>\n",
       "      <th>TOTAL UNITS</th>\n",
       "      <th>LAND SQUARE FEET</th>\n",
       "      <th>GROSS SQUARE FEET</th>\n",
       "      <th>YEAR BUILT</th>\n",
       "      <th>TAX CLASS AT TIME OF SALE</th>\n",
       "      <th>BUILDING CLASS AT TIME OF SALE</th>\n",
       "      <th>SALE PRICE</th>\n",
       "      <th>SALE DATE</th>\n",
       "    </tr>\n",
       "  </thead>\n",
       "  <tbody>\n",
       "    <tr>\n",
       "      <th>0</th>\n",
       "      <td>4</td>\n",
       "      <td>1</td>\n",
       "      <td>ALPHABET CITY</td>\n",
       "      <td>07 RENTALS - WALKUP APARTMENTS</td>\n",
       "      <td>2A</td>\n",
       "      <td>392</td>\n",
       "      <td>6</td>\n",
       "      <td></td>\n",
       "      <td>C2</td>\n",
       "      <td>153 AVENUE B</td>\n",
       "      <td></td>\n",
       "      <td>10009</td>\n",
       "      <td>5</td>\n",
       "      <td>0</td>\n",
       "      <td>5</td>\n",
       "      <td>1633</td>\n",
       "      <td>6440</td>\n",
       "      <td>1900</td>\n",
       "      <td>2</td>\n",
       "      <td>C2</td>\n",
       "      <td>6625000</td>\n",
       "      <td>2017-07-19 00:00:00</td>\n",
       "    </tr>\n",
       "    <tr>\n",
       "      <th>1</th>\n",
       "      <td>5</td>\n",
       "      <td>1</td>\n",
       "      <td>ALPHABET CITY</td>\n",
       "      <td>07 RENTALS - WALKUP APARTMENTS</td>\n",
       "      <td>2</td>\n",
       "      <td>399</td>\n",
       "      <td>26</td>\n",
       "      <td></td>\n",
       "      <td>C7</td>\n",
       "      <td>234 EAST 4TH   STREET</td>\n",
       "      <td></td>\n",
       "      <td>10009</td>\n",
       "      <td>28</td>\n",
       "      <td>3</td>\n",
       "      <td>31</td>\n",
       "      <td>4616</td>\n",
       "      <td>18690</td>\n",
       "      <td>1900</td>\n",
       "      <td>2</td>\n",
       "      <td>C7</td>\n",
       "      <td>-</td>\n",
       "      <td>2016-12-14 00:00:00</td>\n",
       "    </tr>\n",
       "    <tr>\n",
       "      <th>2</th>\n",
       "      <td>6</td>\n",
       "      <td>1</td>\n",
       "      <td>ALPHABET CITY</td>\n",
       "      <td>07 RENTALS - WALKUP APARTMENTS</td>\n",
       "      <td>2</td>\n",
       "      <td>399</td>\n",
       "      <td>39</td>\n",
       "      <td></td>\n",
       "      <td>C7</td>\n",
       "      <td>197 EAST 3RD   STREET</td>\n",
       "      <td></td>\n",
       "      <td>10009</td>\n",
       "      <td>16</td>\n",
       "      <td>1</td>\n",
       "      <td>17</td>\n",
       "      <td>2212</td>\n",
       "      <td>7803</td>\n",
       "      <td>1900</td>\n",
       "      <td>2</td>\n",
       "      <td>C7</td>\n",
       "      <td>-</td>\n",
       "      <td>2016-12-09 00:00:00</td>\n",
       "    </tr>\n",
       "    <tr>\n",
       "      <th>3</th>\n",
       "      <td>7</td>\n",
       "      <td>1</td>\n",
       "      <td>ALPHABET CITY</td>\n",
       "      <td>07 RENTALS - WALKUP APARTMENTS</td>\n",
       "      <td>2B</td>\n",
       "      <td>402</td>\n",
       "      <td>21</td>\n",
       "      <td></td>\n",
       "      <td>C4</td>\n",
       "      <td>154 EAST 7TH STREET</td>\n",
       "      <td></td>\n",
       "      <td>10009</td>\n",
       "      <td>10</td>\n",
       "      <td>0</td>\n",
       "      <td>10</td>\n",
       "      <td>2272</td>\n",
       "      <td>6794</td>\n",
       "      <td>1913</td>\n",
       "      <td>2</td>\n",
       "      <td>C4</td>\n",
       "      <td>3936272</td>\n",
       "      <td>2016-09-23 00:00:00</td>\n",
       "    </tr>\n",
       "    <tr>\n",
       "      <th>4</th>\n",
       "      <td>8</td>\n",
       "      <td>1</td>\n",
       "      <td>ALPHABET CITY</td>\n",
       "      <td>07 RENTALS - WALKUP APARTMENTS</td>\n",
       "      <td>2A</td>\n",
       "      <td>404</td>\n",
       "      <td>55</td>\n",
       "      <td></td>\n",
       "      <td>C2</td>\n",
       "      <td>301 EAST 10TH   STREET</td>\n",
       "      <td></td>\n",
       "      <td>10009</td>\n",
       "      <td>6</td>\n",
       "      <td>0</td>\n",
       "      <td>6</td>\n",
       "      <td>2369</td>\n",
       "      <td>4615</td>\n",
       "      <td>1900</td>\n",
       "      <td>2</td>\n",
       "      <td>C2</td>\n",
       "      <td>8000000</td>\n",
       "      <td>2016-11-17 00:00:00</td>\n",
       "    </tr>\n",
       "  </tbody>\n",
       "</table>\n",
       "</div>"
      ],
      "text/plain": [
       "   Unnamed: 0  BOROUGH   NEIGHBORHOOD  \\\n",
       "0           4        1  ALPHABET CITY   \n",
       "1           5        1  ALPHABET CITY   \n",
       "2           6        1  ALPHABET CITY   \n",
       "3           7        1  ALPHABET CITY   \n",
       "4           8        1  ALPHABET CITY   \n",
       "\n",
       "                       BUILDING CLASS CATEGORY TAX CLASS AT PRESENT  BLOCK  \\\n",
       "0  07 RENTALS - WALKUP APARTMENTS                                2A    392   \n",
       "1  07 RENTALS - WALKUP APARTMENTS                                 2    399   \n",
       "2  07 RENTALS - WALKUP APARTMENTS                                 2    399   \n",
       "3  07 RENTALS - WALKUP APARTMENTS                                2B    402   \n",
       "4  07 RENTALS - WALKUP APARTMENTS                                2A    404   \n",
       "\n",
       "   LOT EASE-MENT BUILDING CLASS AT PRESENT                 ADDRESS  \\\n",
       "0    6                                  C2            153 AVENUE B   \n",
       "1   26                                  C7   234 EAST 4TH   STREET   \n",
       "2   39                                  C7   197 EAST 3RD   STREET   \n",
       "3   21                                  C4     154 EAST 7TH STREET   \n",
       "4   55                                  C2  301 EAST 10TH   STREET   \n",
       "\n",
       "  APARTMENT NUMBER  ZIP CODE  RESIDENTIAL UNITS  COMMERCIAL UNITS  \\\n",
       "0                      10009                  5                 0   \n",
       "1                      10009                 28                 3   \n",
       "2                      10009                 16                 1   \n",
       "3                      10009                 10                 0   \n",
       "4                      10009                  6                 0   \n",
       "\n",
       "   TOTAL UNITS LAND SQUARE FEET GROSS SQUARE FEET  YEAR BUILT  \\\n",
       "0            5             1633              6440        1900   \n",
       "1           31             4616             18690        1900   \n",
       "2           17             2212              7803        1900   \n",
       "3           10             2272              6794        1913   \n",
       "4            6             2369              4615        1900   \n",
       "\n",
       "   TAX CLASS AT TIME OF SALE BUILDING CLASS AT TIME OF SALE SALE PRICE  \\\n",
       "0                          2                             C2    6625000   \n",
       "1                          2                             C7        -     \n",
       "2                          2                             C7        -     \n",
       "3                          2                             C4    3936272   \n",
       "4                          2                             C2    8000000   \n",
       "\n",
       "             SALE DATE  \n",
       "0  2017-07-19 00:00:00  \n",
       "1  2016-12-14 00:00:00  \n",
       "2  2016-12-09 00:00:00  \n",
       "3  2016-09-23 00:00:00  \n",
       "4  2016-11-17 00:00:00  "
      ]
     },
     "execution_count": 6,
     "metadata": {},
     "output_type": "execute_result"
    }
   ],
   "source": [
    "# to see all column heads\n",
    "\n",
    "pd.set_option('display.max_columns', None)\n",
    "prop_df.head()\n"
   ]
  },
  {
   "cell_type": "code",
   "execution_count": 7,
   "id": "ef7aa7ba",
   "metadata": {},
   "outputs": [
    {
     "data": {
      "text/plain": [
       "(254,)"
      ]
     },
     "execution_count": 7,
     "metadata": {},
     "output_type": "execute_result"
    }
   ],
   "source": [
    "prop_df.NEIGHBORHOOD.unique().shape"
   ]
  },
  {
   "cell_type": "code",
   "execution_count": 8,
   "id": "1e5b8bcd",
   "metadata": {},
   "outputs": [
    {
     "data": {
      "text/plain": [
       "(5,)"
      ]
     },
     "execution_count": 8,
     "metadata": {},
     "output_type": "execute_result"
    }
   ],
   "source": [
    "prop_df.BOROUGH.unique().shape"
   ]
  },
  {
   "cell_type": "code",
   "execution_count": 9,
   "id": "a36215cc",
   "metadata": {},
   "outputs": [
    {
     "name": "stdout",
     "output_type": "stream",
     "text": [
      "<class 'pandas.core.frame.DataFrame'>\n",
      "RangeIndex: 84548 entries, 0 to 84547\n",
      "Data columns (total 22 columns):\n",
      " #   Column                          Non-Null Count  Dtype \n",
      "---  ------                          --------------  ----- \n",
      " 0   Unnamed: 0                      84548 non-null  int64 \n",
      " 1   BOROUGH                         84548 non-null  int64 \n",
      " 2   NEIGHBORHOOD                    84548 non-null  object\n",
      " 3   BUILDING CLASS CATEGORY         84548 non-null  object\n",
      " 4   TAX CLASS AT PRESENT            84548 non-null  object\n",
      " 5   BLOCK                           84548 non-null  int64 \n",
      " 6   LOT                             84548 non-null  int64 \n",
      " 7   EASE-MENT                       84548 non-null  object\n",
      " 8   BUILDING CLASS AT PRESENT       84548 non-null  object\n",
      " 9   ADDRESS                         84548 non-null  object\n",
      " 10  APARTMENT NUMBER                84548 non-null  object\n",
      " 11  ZIP CODE                        84548 non-null  int64 \n",
      " 12  RESIDENTIAL UNITS               84548 non-null  int64 \n",
      " 13  COMMERCIAL UNITS                84548 non-null  int64 \n",
      " 14  TOTAL UNITS                     84548 non-null  int64 \n",
      " 15  LAND SQUARE FEET                84548 non-null  object\n",
      " 16  GROSS SQUARE FEET               84548 non-null  object\n",
      " 17  YEAR BUILT                      84548 non-null  int64 \n",
      " 18  TAX CLASS AT TIME OF SALE       84548 non-null  int64 \n",
      " 19  BUILDING CLASS AT TIME OF SALE  84548 non-null  object\n",
      " 20  SALE PRICE                      84548 non-null  object\n",
      " 21  SALE DATE                       84548 non-null  object\n",
      "dtypes: int64(10), object(12)\n",
      "memory usage: 14.2+ MB\n"
     ]
    }
   ],
   "source": [
    "prop_df.info()"
   ]
  },
  {
   "cell_type": "markdown",
   "id": "f180f8bf",
   "metadata": {},
   "source": [
    "# Acquire takeaways\n",
    "- There are unnecessary columns like Unnamed: 0, Block, Lot, Ease-Ment, Address, Apartment, Number which is unnecessary for prediction for the sale price of the homes. They play roles in identification for legal and other purposes.\n",
    "\n",
    "- Two columns serve the same purpose like Building Class at Present and Building Class at time of Sale, so it is better to get rid of them.\n",
    "\n",
    "- Sale Price, Land Square Feet, Gross Square Feet are attributes of interest, as they impact the sale price. But they are in data type object. We will take necessary steps in prepare phase to convert it into float.\n",
    "- Year Built influences the sale price so, we will introduce new attribute age = 2022- built year to analyze, its affect on sale price\n",
    "- We will keep the sale date in column as the sale price is dependent on sale date."
   ]
  },
  {
   "cell_type": "markdown",
   "id": "e26db8ae",
   "metadata": {},
   "source": [
    "# Prepare"
   ]
  },
  {
   "cell_type": "markdown",
   "id": "2b4d5233",
   "metadata": {},
   "source": [
    "###### Steps Performed for Cleaning Data\n",
    "- We will delete these columns from DataFrames as they have low influence in sale price of the property Unnamed: 0, BUILDING CLASS CATEGORY, BLOCK, LOT, EASE-MENT, ADDRESS, APARTMENT NUMBER, BUILDING CLASS AT PRESENT \n",
    "- Replacing white space in column head with '_' as it will be easy to deal with column head later on.\n",
    "- Converting column head to lower string\n",
    "- getting rid of unneccessary while space in column head\n",
    "- Replacing '-' value with empty in sale price\n",
    "- Replacing '-' value with empty in land square feet\n",
    "- Replacing '-' value with empty in gross square feet\n",
    "- Replacing one or more space characeters  with Null\n",
    "- Dropping NAN from DataFrame\n",
    "- Conveting sale price to float data type\n",
    "- Conveting land square feet to float data type\n",
    "- Conveting gross square feet to float data type\n",
    "- Removing record for which sale price is equal to or less than or equal to 1000\n",
    "- age column created by subtracting 2022 - year_built\n",
    "- Dropping year_built\n",
    "- Removing outliers\n",
    "- Spliting Data"
   ]
  },
  {
   "cell_type": "code",
   "execution_count": 10,
   "id": "5d65e029",
   "metadata": {},
   "outputs": [],
   "source": [
    "def remove_outliers(df, k, col_list):\n",
    "    ''' remove outliers from a list of columns in a dataframe \n",
    "        and return that dataframe\n",
    "    '''\n",
    "    \n",
    "    for col in col_list:\n",
    "\n",
    "        q1, q3 = df[col].quantile([.25, .75])  # get quartiles\n",
    "        \n",
    "        iqr = q3 - q1   # calculate interquartile range\n",
    "        \n",
    "        upper_bound = q3 + k * iqr   # get upper bound\n",
    "        lower_bound = q1 - k * iqr   # get lower bound\n",
    "\n",
    "        # return dataframe without outliers\n",
    "        \n",
    "        df = df[(df[col] > lower_bound) & (df[col] < upper_bound)]\n",
    "        \n",
    "    return df"
   ]
  },
  {
   "cell_type": "code",
   "execution_count": 11,
   "id": "8f353170",
   "metadata": {},
   "outputs": [],
   "source": [
    "# We will delete these columns from DataFrames as they have low influence in sale price of the property\n",
    "# Unnamed: 0, BUILDING CLASS CATEGORY, BLOCK, LOT, EASE-MENT, ADDRESS, APARTMENT NUMBER, BUILDING CLASS AT PRESENT \n",
    "\n",
    "prop_df = prop_df.drop(columns = ['Unnamed: 0', 'BUILDING CLASS CATEGORY', 'BLOCK', 'LOT', 'EASE-MENT', 'ADDRESS', 'APARTMENT NUMBER', 'BUILDING CLASS AT PRESENT'])\n",
    "    "
   ]
  },
  {
   "cell_type": "code",
   "execution_count": 12,
   "id": "f3eafd20",
   "metadata": {},
   "outputs": [
    {
     "name": "stdout",
     "output_type": "stream",
     "text": [
      "<class 'pandas.core.frame.DataFrame'>\n",
      "RangeIndex: 84548 entries, 0 to 84547\n",
      "Data columns (total 14 columns):\n",
      " #   Column                          Non-Null Count  Dtype \n",
      "---  ------                          --------------  ----- \n",
      " 0   BOROUGH                         84548 non-null  int64 \n",
      " 1   NEIGHBORHOOD                    84548 non-null  object\n",
      " 2   TAX CLASS AT PRESENT            84548 non-null  object\n",
      " 3   ZIP CODE                        84548 non-null  int64 \n",
      " 4   RESIDENTIAL UNITS               84548 non-null  int64 \n",
      " 5   COMMERCIAL UNITS                84548 non-null  int64 \n",
      " 6   TOTAL UNITS                     84548 non-null  int64 \n",
      " 7   LAND SQUARE FEET                84548 non-null  object\n",
      " 8   GROSS SQUARE FEET               84548 non-null  object\n",
      " 9   YEAR BUILT                      84548 non-null  int64 \n",
      " 10  TAX CLASS AT TIME OF SALE       84548 non-null  int64 \n",
      " 11  BUILDING CLASS AT TIME OF SALE  84548 non-null  object\n",
      " 12  SALE PRICE                      84548 non-null  object\n",
      " 13  SALE DATE                       84548 non-null  object\n",
      "dtypes: int64(7), object(7)\n",
      "memory usage: 9.0+ MB\n"
     ]
    }
   ],
   "source": [
    "prop_df.info()"
   ]
  },
  {
   "cell_type": "code",
   "execution_count": 13,
   "id": "e9f2d8bd",
   "metadata": {},
   "outputs": [],
   "source": [
    "# Replacing white space in column head with '_' as it will be easy to deal with column head later on.\n",
    "prop_df.columns= prop_df.columns.str.replace(' ', '_')\n",
    "\n",
    "# Converting column head to lower string\n",
    "prop_df.columns= prop_df.columns.str.lower()\n",
    "\n",
    "# getting rid of unneccessary while space in column head\n",
    "prop_df.columns = prop_df.columns.str.strip()"
   ]
  },
  {
   "cell_type": "code",
   "execution_count": 14,
   "id": "e2869ad6",
   "metadata": {},
   "outputs": [
    {
     "name": "stdout",
     "output_type": "stream",
     "text": [
      "<class 'pandas.core.frame.DataFrame'>\n",
      "RangeIndex: 84548 entries, 0 to 84547\n",
      "Data columns (total 14 columns):\n",
      " #   Column                          Non-Null Count  Dtype \n",
      "---  ------                          --------------  ----- \n",
      " 0   borough                         84548 non-null  int64 \n",
      " 1   neighborhood                    84548 non-null  object\n",
      " 2   tax_class_at_present            84548 non-null  object\n",
      " 3   zip_code                        84548 non-null  int64 \n",
      " 4   residential_units               84548 non-null  int64 \n",
      " 5   commercial_units                84548 non-null  int64 \n",
      " 6   total_units                     84548 non-null  int64 \n",
      " 7   land_square_feet                84548 non-null  object\n",
      " 8   gross_square_feet               84548 non-null  object\n",
      " 9   year_built                      84548 non-null  int64 \n",
      " 10  tax_class_at_time_of_sale       84548 non-null  int64 \n",
      " 11  building_class_at_time_of_sale  84548 non-null  object\n",
      " 12  sale_price                      84548 non-null  object\n",
      " 13  sale_date                       84548 non-null  object\n",
      "dtypes: int64(7), object(7)\n",
      "memory usage: 9.0+ MB\n"
     ]
    }
   ],
   "source": [
    "prop_df.info()"
   ]
  },
  {
   "cell_type": "code",
   "execution_count": 15,
   "id": "2d15f3bb",
   "metadata": {},
   "outputs": [],
   "source": [
    "# Replacing '-' value with empty in sale price\n",
    "prop_df.sale_price = prop_df.sale_price.str.replace(\"-\", \"\")\n",
    "\n",
    "# Replacing '-' value with empty in land square feet\n",
    "prop_df.land_square_feet = prop_df.land_square_feet.str.replace(\"-\", \"\")\n",
    "\n",
    "# Replacing '-' value with empty in gross square feet\n",
    "prop_df.gross_square_feet = prop_df.gross_square_feet.str.replace(\"-\", \"\")\n"
   ]
  },
  {
   "cell_type": "code",
   "execution_count": 16,
   "id": "bd62124d",
   "metadata": {},
   "outputs": [
    {
     "name": "stdout",
     "output_type": "stream",
     "text": [
      "<class 'pandas.core.frame.DataFrame'>\n",
      "RangeIndex: 84548 entries, 0 to 84547\n",
      "Data columns (total 14 columns):\n",
      " #   Column                          Non-Null Count  Dtype \n",
      "---  ------                          --------------  ----- \n",
      " 0   borough                         84548 non-null  int64 \n",
      " 1   neighborhood                    84548 non-null  object\n",
      " 2   tax_class_at_present            84548 non-null  object\n",
      " 3   zip_code                        84548 non-null  int64 \n",
      " 4   residential_units               84548 non-null  int64 \n",
      " 5   commercial_units                84548 non-null  int64 \n",
      " 6   total_units                     84548 non-null  int64 \n",
      " 7   land_square_feet                84548 non-null  object\n",
      " 8   gross_square_feet               84548 non-null  object\n",
      " 9   year_built                      84548 non-null  int64 \n",
      " 10  tax_class_at_time_of_sale       84548 non-null  int64 \n",
      " 11  building_class_at_time_of_sale  84548 non-null  object\n",
      " 12  sale_price                      84548 non-null  object\n",
      " 13  sale_date                       84548 non-null  object\n",
      "dtypes: int64(7), object(7)\n",
      "memory usage: 9.0+ MB\n"
     ]
    }
   ],
   "source": [
    "prop_df.info()"
   ]
  },
  {
   "cell_type": "code",
   "execution_count": 17,
   "id": "9a06685a",
   "metadata": {},
   "outputs": [],
   "source": [
    "# Replacing one or more space characeters  with Null\n",
    "prop_df = prop_df.replace(r'^\\s*$', np.nan, regex=True)"
   ]
  },
  {
   "cell_type": "code",
   "execution_count": 18,
   "id": "72ce492e",
   "metadata": {},
   "outputs": [],
   "source": [
    "# Dropping NAN from DataFrame\n",
    "prop_df = prop_df.dropna()"
   ]
  },
  {
   "cell_type": "code",
   "execution_count": 19,
   "id": "3636c071",
   "metadata": {},
   "outputs": [
    {
     "name": "stdout",
     "output_type": "stream",
     "text": [
      "<class 'pandas.core.frame.DataFrame'>\n",
      "Int64Index: 47892 entries, 0 to 84547\n",
      "Data columns (total 14 columns):\n",
      " #   Column                          Non-Null Count  Dtype \n",
      "---  ------                          --------------  ----- \n",
      " 0   borough                         47892 non-null  int64 \n",
      " 1   neighborhood                    47892 non-null  object\n",
      " 2   tax_class_at_present            47892 non-null  object\n",
      " 3   zip_code                        47892 non-null  int64 \n",
      " 4   residential_units               47892 non-null  int64 \n",
      " 5   commercial_units                47892 non-null  int64 \n",
      " 6   total_units                     47892 non-null  int64 \n",
      " 7   land_square_feet                47892 non-null  object\n",
      " 8   gross_square_feet               47892 non-null  object\n",
      " 9   year_built                      47892 non-null  int64 \n",
      " 10  tax_class_at_time_of_sale       47892 non-null  int64 \n",
      " 11  building_class_at_time_of_sale  47892 non-null  object\n",
      " 12  sale_price                      47892 non-null  object\n",
      " 13  sale_date                       47892 non-null  object\n",
      "dtypes: int64(7), object(7)\n",
      "memory usage: 5.5+ MB\n"
     ]
    }
   ],
   "source": [
    "prop_df.info()"
   ]
  },
  {
   "cell_type": "code",
   "execution_count": 20,
   "id": "314e1fa6",
   "metadata": {},
   "outputs": [],
   "source": [
    "# Conveting sale price to float data type\n",
    "prop_df.sale_price = prop_df.sale_price.astype(float)\n",
    "\n",
    "# Conveting land square feet to float data type\n",
    "prop_df.land_square_feet = prop_df.land_square_feet.astype(float)\n",
    "\n",
    "# Conveting gross square feet to float data type\n",
    "prop_df.gross_square_feet = prop_df.gross_square_feet.astype(float)"
   ]
  },
  {
   "cell_type": "code",
   "execution_count": 21,
   "id": "1dac5c58",
   "metadata": {},
   "outputs": [
    {
     "name": "stdout",
     "output_type": "stream",
     "text": [
      "<class 'pandas.core.frame.DataFrame'>\n",
      "Int64Index: 47892 entries, 0 to 84547\n",
      "Data columns (total 14 columns):\n",
      " #   Column                          Non-Null Count  Dtype  \n",
      "---  ------                          --------------  -----  \n",
      " 0   borough                         47892 non-null  int64  \n",
      " 1   neighborhood                    47892 non-null  object \n",
      " 2   tax_class_at_present            47892 non-null  object \n",
      " 3   zip_code                        47892 non-null  int64  \n",
      " 4   residential_units               47892 non-null  int64  \n",
      " 5   commercial_units                47892 non-null  int64  \n",
      " 6   total_units                     47892 non-null  int64  \n",
      " 7   land_square_feet                47892 non-null  float64\n",
      " 8   gross_square_feet               47892 non-null  float64\n",
      " 9   year_built                      47892 non-null  int64  \n",
      " 10  tax_class_at_time_of_sale       47892 non-null  int64  \n",
      " 11  building_class_at_time_of_sale  47892 non-null  object \n",
      " 12  sale_price                      47892 non-null  float64\n",
      " 13  sale_date                       47892 non-null  object \n",
      "dtypes: float64(3), int64(7), object(4)\n",
      "memory usage: 5.5+ MB\n"
     ]
    }
   ],
   "source": [
    "prop_df.info()"
   ]
  },
  {
   "cell_type": "code",
   "execution_count": 22,
   "id": "9a9b2280",
   "metadata": {},
   "outputs": [],
   "source": [
    "# Removing record for which sale price is equal to or less than or equal to $1000\n",
    "prop_df = prop_df[prop_df.sale_price > 1000]\n",
    "\n",
    "# Removing record for which sale price is equal to or less than or equal to $1000\n",
    "prop_df = prop_df[prop_df.gross_square_feet > 0]\n",
    "\n",
    "# Removing record for which sale price is equal to or less than or equal to $1000\n",
    "prop_df = prop_df[prop_df.land_square_feet > 0]\n",
    "\n",
    "# age column created by subtracting 2022 - year_built\n",
    "prop_df['age'] = 2022 - prop_df.year_built\n",
    "\n",
    "# dropping year_built\n",
    "prop_df = prop_df.drop(columns = ['year_built'])\n",
    "\n",
    "col_list = ['total_units', 'land_square_feet', 'gross_square_feet', 'sale_price', 'age']\n",
    "\n",
    "# Removing outliers\n",
    "prop_df = remove_outliers(prop_df, 1.5, col_list)"
   ]
  },
  {
   "cell_type": "code",
   "execution_count": 23,
   "id": "7b28dbd6",
   "metadata": {},
   "outputs": [
    {
     "name": "stdout",
     "output_type": "stream",
     "text": [
      "<class 'pandas.core.frame.DataFrame'>\n",
      "Int64Index: 22582 entries, 4172 to 84545\n",
      "Data columns (total 14 columns):\n",
      " #   Column                          Non-Null Count  Dtype  \n",
      "---  ------                          --------------  -----  \n",
      " 0   borough                         22582 non-null  int64  \n",
      " 1   neighborhood                    22582 non-null  object \n",
      " 2   tax_class_at_present            22582 non-null  object \n",
      " 3   zip_code                        22582 non-null  int64  \n",
      " 4   residential_units               22582 non-null  int64  \n",
      " 5   commercial_units                22582 non-null  int64  \n",
      " 6   total_units                     22582 non-null  int64  \n",
      " 7   land_square_feet                22582 non-null  float64\n",
      " 8   gross_square_feet               22582 non-null  float64\n",
      " 9   tax_class_at_time_of_sale       22582 non-null  int64  \n",
      " 10  building_class_at_time_of_sale  22582 non-null  object \n",
      " 11  sale_price                      22582 non-null  float64\n",
      " 12  sale_date                       22582 non-null  object \n",
      " 13  age                             22582 non-null  int64  \n",
      "dtypes: float64(3), int64(7), object(4)\n",
      "memory usage: 2.6+ MB\n"
     ]
    }
   ],
   "source": [
    "prop_df.info()"
   ]
  },
  {
   "cell_type": "code",
   "execution_count": 24,
   "id": "e9ae0770",
   "metadata": {},
   "outputs": [
    {
     "data": {
      "text/plain": [
       "(22582, 14)"
      ]
     },
     "execution_count": 24,
     "metadata": {},
     "output_type": "execute_result"
    }
   ],
   "source": [
    "prop_df.shape"
   ]
  },
  {
   "cell_type": "markdown",
   "id": "0c6a5ad6",
   "metadata": {},
   "source": [
    "- Sale price has non-numerical entries\n",
    "- Sale price has values of \\$ 0 and \\$ 10 for sale of properties with in family members for sake of transformation of titles. We will drop them as well, as it will create possible prediction problem.\n",
    "- Since we are dealing with property of New York, sale of any properties below \\$1,000 sounds like it's not real sale between two parties that we are interested in."
   ]
  },
  {
   "cell_type": "code",
   "execution_count": 25,
   "id": "6ee2809a",
   "metadata": {},
   "outputs": [],
   "source": [
    "\n",
    "train_validate, test = train_test_split(prop_df, test_size=.2, random_state=123)\n",
    "train, validate = train_test_split(train_validate, test_size=.3, random_state=123)\n"
   ]
  },
  {
   "cell_type": "code",
   "execution_count": 26,
   "id": "2aef7dac",
   "metadata": {},
   "outputs": [
    {
     "name": "stdout",
     "output_type": "stream",
     "text": [
      "(12645, 14)\n",
      "(5420, 14)\n",
      "(4517, 14)\n"
     ]
    }
   ],
   "source": [
    "print(train.shape)\n",
    "print(validate.shape)\n",
    "print(test.shape)"
   ]
  },
  {
   "cell_type": "code",
   "execution_count": 27,
   "id": "56df5a80",
   "metadata": {},
   "outputs": [
    {
     "data": {
      "text/plain": [
       "borough                           0\n",
       "neighborhood                      0\n",
       "tax_class_at_present              0\n",
       "zip_code                          0\n",
       "residential_units                 0\n",
       "commercial_units                  0\n",
       "total_units                       0\n",
       "land_square_feet                  0\n",
       "gross_square_feet                 0\n",
       "tax_class_at_time_of_sale         0\n",
       "building_class_at_time_of_sale    0\n",
       "sale_price                        0\n",
       "sale_date                         0\n",
       "age                               0\n",
       "dtype: int64"
      ]
     },
     "execution_count": 27,
     "metadata": {},
     "output_type": "execute_result"
    }
   ],
   "source": [
    "prop_df.isnull().sum()"
   ]
  },
  {
   "cell_type": "code",
   "execution_count": 28,
   "id": "4dbe2267",
   "metadata": {},
   "outputs": [
    {
     "name": "stdout",
     "output_type": "stream",
     "text": [
      "<class 'pandas.core.frame.DataFrame'>\n",
      "Int64Index: 22582 entries, 4172 to 84545\n",
      "Data columns (total 14 columns):\n",
      " #   Column                          Non-Null Count  Dtype  \n",
      "---  ------                          --------------  -----  \n",
      " 0   borough                         22582 non-null  int64  \n",
      " 1   neighborhood                    22582 non-null  object \n",
      " 2   tax_class_at_present            22582 non-null  object \n",
      " 3   zip_code                        22582 non-null  int64  \n",
      " 4   residential_units               22582 non-null  int64  \n",
      " 5   commercial_units                22582 non-null  int64  \n",
      " 6   total_units                     22582 non-null  int64  \n",
      " 7   land_square_feet                22582 non-null  float64\n",
      " 8   gross_square_feet               22582 non-null  float64\n",
      " 9   tax_class_at_time_of_sale       22582 non-null  int64  \n",
      " 10  building_class_at_time_of_sale  22582 non-null  object \n",
      " 11  sale_price                      22582 non-null  float64\n",
      " 12  sale_date                       22582 non-null  object \n",
      " 13  age                             22582 non-null  int64  \n",
      "dtypes: float64(3), int64(7), object(4)\n",
      "memory usage: 2.6+ MB\n"
     ]
    }
   ],
   "source": [
    "prop_df.info()"
   ]
  },
  {
   "cell_type": "code",
   "execution_count": 29,
   "id": "f9db192c",
   "metadata": {},
   "outputs": [],
   "source": [
    "# Splitting into x / y  and features and target\n",
    "# Splitting into x / y  and features and target # Needs to be adjusted\n",
    "X_train = train.drop(columns = ['borough', 'neighborhood', 'tax_class_at_present', 'building_class_at_time_of_sale', 'sale_date', 'sale_price', 'residential_units', 'commercial_units', 'zip_code'])\n",
    "y_train = train.sale_price\n",
    "\n",
    "X_validate = validate.drop(columns = ['borough', 'neighborhood', 'tax_class_at_present', 'building_class_at_time_of_sale', 'sale_date', 'sale_price', 'residential_units', 'commercial_units', 'zip_code'])\n",
    "y_validate = validate.sale_price\n",
    "\n",
    "X_test = test.drop(columns = ['borough', 'neighborhood', 'tax_class_at_present', 'building_class_at_time_of_sale', 'sale_date', 'sale_price', 'residential_units', 'commercial_units', 'zip_code'])\n",
    "y_test = test.sale_price"
   ]
  },
  {
   "cell_type": "code",
   "execution_count": 30,
   "id": "44ef3fd8",
   "metadata": {},
   "outputs": [
    {
     "data": {
      "text/html": [
       "<div>\n",
       "<style scoped>\n",
       "    .dataframe tbody tr th:only-of-type {\n",
       "        vertical-align: middle;\n",
       "    }\n",
       "\n",
       "    .dataframe tbody tr th {\n",
       "        vertical-align: top;\n",
       "    }\n",
       "\n",
       "    .dataframe thead th {\n",
       "        text-align: right;\n",
       "    }\n",
       "</style>\n",
       "<table border=\"1\" class=\"dataframe\">\n",
       "  <thead>\n",
       "    <tr style=\"text-align: right;\">\n",
       "      <th></th>\n",
       "      <th>total_units</th>\n",
       "      <th>land_square_feet</th>\n",
       "      <th>gross_square_feet</th>\n",
       "      <th>tax_class_at_time_of_sale</th>\n",
       "      <th>age</th>\n",
       "    </tr>\n",
       "  </thead>\n",
       "  <tbody>\n",
       "    <tr>\n",
       "      <th>38029</th>\n",
       "      <td>1</td>\n",
       "      <td>2000.0</td>\n",
       "      <td>1274.0</td>\n",
       "      <td>1</td>\n",
       "      <td>82</td>\n",
       "    </tr>\n",
       "    <tr>\n",
       "      <th>43922</th>\n",
       "      <td>2</td>\n",
       "      <td>2100.0</td>\n",
       "      <td>1782.0</td>\n",
       "      <td>1</td>\n",
       "      <td>67</td>\n",
       "    </tr>\n",
       "    <tr>\n",
       "      <th>63196</th>\n",
       "      <td>2</td>\n",
       "      <td>4142.0</td>\n",
       "      <td>2296.0</td>\n",
       "      <td>1</td>\n",
       "      <td>67</td>\n",
       "    </tr>\n",
       "    <tr>\n",
       "      <th>41776</th>\n",
       "      <td>1</td>\n",
       "      <td>1600.0</td>\n",
       "      <td>1771.0</td>\n",
       "      <td>1</td>\n",
       "      <td>82</td>\n",
       "    </tr>\n",
       "    <tr>\n",
       "      <th>25962</th>\n",
       "      <td>3</td>\n",
       "      <td>2020.0</td>\n",
       "      <td>2520.0</td>\n",
       "      <td>1</td>\n",
       "      <td>111</td>\n",
       "    </tr>\n",
       "  </tbody>\n",
       "</table>\n",
       "</div>"
      ],
      "text/plain": [
       "       total_units  land_square_feet  gross_square_feet  \\\n",
       "38029            1            2000.0             1274.0   \n",
       "43922            2            2100.0             1782.0   \n",
       "63196            2            4142.0             2296.0   \n",
       "41776            1            1600.0             1771.0   \n",
       "25962            3            2020.0             2520.0   \n",
       "\n",
       "       tax_class_at_time_of_sale  age  \n",
       "38029                          1   82  \n",
       "43922                          1   67  \n",
       "63196                          1   67  \n",
       "41776                          1   82  \n",
       "25962                          1  111  "
      ]
     },
     "execution_count": 30,
     "metadata": {},
     "output_type": "execute_result"
    }
   ],
   "source": [
    "X_train.head()"
   ]
  },
  {
   "cell_type": "markdown",
   "id": "9fcd705b",
   "metadata": {},
   "source": [
    "# Scaling:"
   ]
  },
  {
   "cell_type": "code",
   "execution_count": 32,
   "id": "c306cbec",
   "metadata": {},
   "outputs": [
    {
     "data": {
      "text/plain": [
       "Text(0.5, 1.0, 'Scaled')"
      ]
     },
     "execution_count": 32,
     "metadata": {},
     "output_type": "execute_result"
    },
    {
     "data": {
      "image/png": "[encoded data removed]",
      "text/plain": [
       "<Figure size 936x432 with 2 Axes>"
      ]
     },
     "metadata": {
      "needs_background": "light"
     },
     "output_type": "display_data"
    }
   ],
   "source": [
    "\n",
    "\n",
    "# MinMax Scaling\n",
    "scaler = sklearn.preprocessing.MinMaxScaler()\n",
    "# Note that we only call .fit with the training data,\n",
    "# but we use .transform to apply the scaling to all the data splits.\n",
    "scaler.fit(X_train)\n",
    "\n",
    "X_train_scaled = scaler.transform(X_train)\n",
    "X_validate_scaled = scaler.transform(X_validate)\n",
    "X_test_scaled = scaler.transform(X_test)\n",
    "\n",
    "\n",
    "plt.figure(figsize=(13, 6))\n",
    "plt.subplot(121)\n",
    "plt.hist(X_train, bins=25, ec='black')\n",
    "plt.title('Original')\n",
    "plt.subplot(122)\n",
    "plt.hist(X_train_scaled, bins=25, ec='black')\n",
    "plt.title('Scaled')"
   ]
  }
 ],
 "metadata": {
  "kernelspec": {
   "display_name": "Python 3 (ipykernel)",
   "language": "python",
   "name": "python3"
  },
  "language_info": {
   "codemirror_mode": {
    "name": "ipython",
    "version": 3
   },
   "file_extension": ".py",
   "mimetype": "text/x-python",
   "name": "python",
   "nbconvert_exporter": "python",
   "pygments_lexer": "ipython3",
   "version": "3.8.8"
  }
 },
 "nbformat": 4,
 "nbformat_minor": 5
}
